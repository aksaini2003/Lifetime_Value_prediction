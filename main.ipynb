{
 "cells": [
  {
   "cell_type": "code",
   "execution_count": 222,
   "id": "0573288a",
   "metadata": {},
   "outputs": [],
   "source": [
    "import numpy as np \n",
    "import pandas as pd \n",
    "import seaborn as sns\n",
    "import matplotlib.pyplot as plt \n"
   ]
  },
  {
   "cell_type": "code",
   "execution_count": 223,
   "id": "8737fd70",
   "metadata": {},
   "outputs": [
    {
     "data": {
      "text/html": [
       "<div>\n",
       "<style scoped>\n",
       "    .dataframe tbody tr th:only-of-type {\n",
       "        vertical-align: middle;\n",
       "    }\n",
       "\n",
       "    .dataframe tbody tr th {\n",
       "        vertical-align: top;\n",
       "    }\n",
       "\n",
       "    .dataframe thead th {\n",
       "        text-align: right;\n",
       "    }\n",
       "</style>\n",
       "<table border=\"1\" class=\"dataframe\">\n",
       "  <thead>\n",
       "    <tr style=\"text-align: right;\">\n",
       "      <th></th>\n",
       "      <th>Invoice</th>\n",
       "      <th>StockCode</th>\n",
       "      <th>Description</th>\n",
       "      <th>Quantity</th>\n",
       "      <th>InvoiceDate</th>\n",
       "      <th>Price</th>\n",
       "      <th>Customer ID</th>\n",
       "      <th>Country</th>\n",
       "    </tr>\n",
       "  </thead>\n",
       "  <tbody>\n",
       "    <tr>\n",
       "      <th>0</th>\n",
       "      <td>489434</td>\n",
       "      <td>85048</td>\n",
       "      <td>15CM CHRISTMAS GLASS BALL 20 LIGHTS</td>\n",
       "      <td>12</td>\n",
       "      <td>2009-12-01 07:45:00</td>\n",
       "      <td>6.95</td>\n",
       "      <td>13085.0</td>\n",
       "      <td>United Kingdom</td>\n",
       "    </tr>\n",
       "    <tr>\n",
       "      <th>1</th>\n",
       "      <td>489434</td>\n",
       "      <td>79323P</td>\n",
       "      <td>PINK CHERRY LIGHTS</td>\n",
       "      <td>12</td>\n",
       "      <td>2009-12-01 07:45:00</td>\n",
       "      <td>6.75</td>\n",
       "      <td>13085.0</td>\n",
       "      <td>United Kingdom</td>\n",
       "    </tr>\n",
       "    <tr>\n",
       "      <th>2</th>\n",
       "      <td>489434</td>\n",
       "      <td>79323W</td>\n",
       "      <td>WHITE CHERRY LIGHTS</td>\n",
       "      <td>12</td>\n",
       "      <td>2009-12-01 07:45:00</td>\n",
       "      <td>6.75</td>\n",
       "      <td>13085.0</td>\n",
       "      <td>United Kingdom</td>\n",
       "    </tr>\n",
       "    <tr>\n",
       "      <th>3</th>\n",
       "      <td>489434</td>\n",
       "      <td>22041</td>\n",
       "      <td>RECORD FRAME 7\" SINGLE SIZE</td>\n",
       "      <td>48</td>\n",
       "      <td>2009-12-01 07:45:00</td>\n",
       "      <td>2.10</td>\n",
       "      <td>13085.0</td>\n",
       "      <td>United Kingdom</td>\n",
       "    </tr>\n",
       "    <tr>\n",
       "      <th>4</th>\n",
       "      <td>489434</td>\n",
       "      <td>21232</td>\n",
       "      <td>STRAWBERRY CERAMIC TRINKET BOX</td>\n",
       "      <td>24</td>\n",
       "      <td>2009-12-01 07:45:00</td>\n",
       "      <td>1.25</td>\n",
       "      <td>13085.0</td>\n",
       "      <td>United Kingdom</td>\n",
       "    </tr>\n",
       "  </tbody>\n",
       "</table>\n",
       "</div>"
      ],
      "text/plain": [
       "  Invoice StockCode                          Description  Quantity  \\\n",
       "0  489434     85048  15CM CHRISTMAS GLASS BALL 20 LIGHTS        12   \n",
       "1  489434    79323P                   PINK CHERRY LIGHTS        12   \n",
       "2  489434    79323W                  WHITE CHERRY LIGHTS        12   \n",
       "3  489434     22041         RECORD FRAME 7\" SINGLE SIZE         48   \n",
       "4  489434     21232       STRAWBERRY CERAMIC TRINKET BOX        24   \n",
       "\n",
       "          InvoiceDate  Price  Customer ID         Country  \n",
       "0 2009-12-01 07:45:00   6.95      13085.0  United Kingdom  \n",
       "1 2009-12-01 07:45:00   6.75      13085.0  United Kingdom  \n",
       "2 2009-12-01 07:45:00   6.75      13085.0  United Kingdom  \n",
       "3 2009-12-01 07:45:00   2.10      13085.0  United Kingdom  \n",
       "4 2009-12-01 07:45:00   1.25      13085.0  United Kingdom  "
      ]
     },
     "execution_count": 223,
     "metadata": {},
     "output_type": "execute_result"
    }
   ],
   "source": [
    "df=pd.read_excel('online_retail_II.xlsx')\n",
    "\n",
    "df.head()"
   ]
  },
  {
   "cell_type": "code",
   "execution_count": 224,
   "id": "d9a7fdbd",
   "metadata": {},
   "outputs": [
    {
     "data": {
      "text/html": [
       "<div>\n",
       "<style scoped>\n",
       "    .dataframe tbody tr th:only-of-type {\n",
       "        vertical-align: middle;\n",
       "    }\n",
       "\n",
       "    .dataframe tbody tr th {\n",
       "        vertical-align: top;\n",
       "    }\n",
       "\n",
       "    .dataframe thead th {\n",
       "        text-align: right;\n",
       "    }\n",
       "</style>\n",
       "<table border=\"1\" class=\"dataframe\">\n",
       "  <thead>\n",
       "    <tr style=\"text-align: right;\">\n",
       "      <th></th>\n",
       "      <th>Invoice</th>\n",
       "      <th>StockCode</th>\n",
       "      <th>Description</th>\n",
       "      <th>Quantity</th>\n",
       "      <th>InvoiceDate</th>\n",
       "      <th>Price</th>\n",
       "      <th>Customer ID</th>\n",
       "      <th>Country</th>\n",
       "    </tr>\n",
       "  </thead>\n",
       "  <tbody>\n",
       "    <tr>\n",
       "      <th>0</th>\n",
       "      <td>489434</td>\n",
       "      <td>85048</td>\n",
       "      <td>15CM CHRISTMAS GLASS BALL 20 LIGHTS</td>\n",
       "      <td>12</td>\n",
       "      <td>2009-12-01 07:45:00</td>\n",
       "      <td>6.95</td>\n",
       "      <td>13085.0</td>\n",
       "      <td>United Kingdom</td>\n",
       "    </tr>\n",
       "    <tr>\n",
       "      <th>1</th>\n",
       "      <td>489434</td>\n",
       "      <td>79323P</td>\n",
       "      <td>PINK CHERRY LIGHTS</td>\n",
       "      <td>12</td>\n",
       "      <td>2009-12-01 07:45:00</td>\n",
       "      <td>6.75</td>\n",
       "      <td>13085.0</td>\n",
       "      <td>United Kingdom</td>\n",
       "    </tr>\n",
       "    <tr>\n",
       "      <th>2</th>\n",
       "      <td>489434</td>\n",
       "      <td>79323W</td>\n",
       "      <td>WHITE CHERRY LIGHTS</td>\n",
       "      <td>12</td>\n",
       "      <td>2009-12-01 07:45:00</td>\n",
       "      <td>6.75</td>\n",
       "      <td>13085.0</td>\n",
       "      <td>United Kingdom</td>\n",
       "    </tr>\n",
       "    <tr>\n",
       "      <th>3</th>\n",
       "      <td>489434</td>\n",
       "      <td>22041</td>\n",
       "      <td>RECORD FRAME 7\" SINGLE SIZE</td>\n",
       "      <td>48</td>\n",
       "      <td>2009-12-01 07:45:00</td>\n",
       "      <td>2.10</td>\n",
       "      <td>13085.0</td>\n",
       "      <td>United Kingdom</td>\n",
       "    </tr>\n",
       "    <tr>\n",
       "      <th>4</th>\n",
       "      <td>489434</td>\n",
       "      <td>21232</td>\n",
       "      <td>STRAWBERRY CERAMIC TRINKET BOX</td>\n",
       "      <td>24</td>\n",
       "      <td>2009-12-01 07:45:00</td>\n",
       "      <td>1.25</td>\n",
       "      <td>13085.0</td>\n",
       "      <td>United Kingdom</td>\n",
       "    </tr>\n",
       "  </tbody>\n",
       "</table>\n",
       "</div>"
      ],
      "text/plain": [
       "  Invoice StockCode                          Description  Quantity  \\\n",
       "0  489434     85048  15CM CHRISTMAS GLASS BALL 20 LIGHTS        12   \n",
       "1  489434    79323P                   PINK CHERRY LIGHTS        12   \n",
       "2  489434    79323W                  WHITE CHERRY LIGHTS        12   \n",
       "3  489434     22041         RECORD FRAME 7\" SINGLE SIZE         48   \n",
       "4  489434     21232       STRAWBERRY CERAMIC TRINKET BOX        24   \n",
       "\n",
       "          InvoiceDate  Price  Customer ID         Country  \n",
       "0 2009-12-01 07:45:00   6.95      13085.0  United Kingdom  \n",
       "1 2009-12-01 07:45:00   6.75      13085.0  United Kingdom  \n",
       "2 2009-12-01 07:45:00   6.75      13085.0  United Kingdom  \n",
       "3 2009-12-01 07:45:00   2.10      13085.0  United Kingdom  \n",
       "4 2009-12-01 07:45:00   1.25      13085.0  United Kingdom  "
      ]
     },
     "execution_count": 224,
     "metadata": {},
     "output_type": "execute_result"
    }
   ],
   "source": [
    "df.head()"
   ]
  },
  {
   "cell_type": "code",
   "execution_count": 225,
   "id": "ceb6fb88",
   "metadata": {},
   "outputs": [
    {
     "data": {
      "text/plain": [
       "(525461, 8)"
      ]
     },
     "execution_count": 225,
     "metadata": {},
     "output_type": "execute_result"
    }
   ],
   "source": [
    "df.shape"
   ]
  },
  {
   "cell_type": "code",
   "execution_count": 226,
   "id": "5ad85d90",
   "metadata": {},
   "outputs": [
    {
     "name": "stdout",
     "output_type": "stream",
     "text": [
      "<class 'pandas.core.frame.DataFrame'>\n",
      "RangeIndex: 525461 entries, 0 to 525460\n",
      "Data columns (total 8 columns):\n",
      " #   Column       Non-Null Count   Dtype         \n",
      "---  ------       --------------   -----         \n",
      " 0   Invoice      525461 non-null  object        \n",
      " 1   StockCode    525461 non-null  object        \n",
      " 2   Description  522533 non-null  object        \n",
      " 3   Quantity     525461 non-null  int64         \n",
      " 4   InvoiceDate  525461 non-null  datetime64[ns]\n",
      " 5   Price        525461 non-null  float64       \n",
      " 6   Customer ID  417534 non-null  float64       \n",
      " 7   Country      525461 non-null  object        \n",
      "dtypes: datetime64[ns](1), float64(2), int64(1), object(4)\n",
      "memory usage: 32.1+ MB\n"
     ]
    }
   ],
   "source": [
    "df.isnull().sum() #so their is no null remains in the system \n",
    "df.info()"
   ]
  },
  {
   "cell_type": "code",
   "execution_count": 227,
   "id": "cfd6188a",
   "metadata": {},
   "outputs": [
    {
     "data": {
      "text/html": [
       "<div>\n",
       "<style scoped>\n",
       "    .dataframe tbody tr th:only-of-type {\n",
       "        vertical-align: middle;\n",
       "    }\n",
       "\n",
       "    .dataframe tbody tr th {\n",
       "        vertical-align: top;\n",
       "    }\n",
       "\n",
       "    .dataframe thead th {\n",
       "        text-align: right;\n",
       "    }\n",
       "</style>\n",
       "<table border=\"1\" class=\"dataframe\">\n",
       "  <thead>\n",
       "    <tr style=\"text-align: right;\">\n",
       "      <th></th>\n",
       "      <th>Invoice</th>\n",
       "      <th>StockCode</th>\n",
       "      <th>Description</th>\n",
       "      <th>Quantity</th>\n",
       "      <th>InvoiceDate</th>\n",
       "      <th>Price</th>\n",
       "      <th>Customer ID</th>\n",
       "      <th>Country</th>\n",
       "    </tr>\n",
       "  </thead>\n",
       "  <tbody>\n",
       "    <tr>\n",
       "      <th>0</th>\n",
       "      <td>489434</td>\n",
       "      <td>85048</td>\n",
       "      <td>15CM CHRISTMAS GLASS BALL 20 LIGHTS</td>\n",
       "      <td>12</td>\n",
       "      <td>2009-12-01 07:45:00</td>\n",
       "      <td>6.95</td>\n",
       "      <td>13085.0</td>\n",
       "      <td>United Kingdom</td>\n",
       "    </tr>\n",
       "  </tbody>\n",
       "</table>\n",
       "</div>"
      ],
      "text/plain": [
       "  Invoice StockCode                          Description  Quantity  \\\n",
       "0  489434     85048  15CM CHRISTMAS GLASS BALL 20 LIGHTS        12   \n",
       "\n",
       "          InvoiceDate  Price  Customer ID         Country  \n",
       "0 2009-12-01 07:45:00   6.95      13085.0  United Kingdom  "
      ]
     },
     "execution_count": 227,
     "metadata": {},
     "output_type": "execute_result"
    }
   ],
   "source": [
    "df.head(1)"
   ]
  },
  {
   "cell_type": "code",
   "execution_count": null,
   "id": "2bea7528",
   "metadata": {},
   "outputs": [],
   "source": []
  },
  {
   "cell_type": "code",
   "execution_count": 228,
   "id": "1817ceea",
   "metadata": {},
   "outputs": [
    {
     "data": {
      "text/html": [
       "<div>\n",
       "<style scoped>\n",
       "    .dataframe tbody tr th:only-of-type {\n",
       "        vertical-align: middle;\n",
       "    }\n",
       "\n",
       "    .dataframe tbody tr th {\n",
       "        vertical-align: top;\n",
       "    }\n",
       "\n",
       "    .dataframe thead th {\n",
       "        text-align: right;\n",
       "    }\n",
       "</style>\n",
       "<table border=\"1\" class=\"dataframe\">\n",
       "  <thead>\n",
       "    <tr style=\"text-align: right;\">\n",
       "      <th></th>\n",
       "      <th>Invoice</th>\n",
       "      <th>StockCode</th>\n",
       "      <th>Description</th>\n",
       "      <th>Quantity</th>\n",
       "      <th>InvoiceDate</th>\n",
       "      <th>Price</th>\n",
       "      <th>Customer ID</th>\n",
       "      <th>Country</th>\n",
       "    </tr>\n",
       "  </thead>\n",
       "  <tbody>\n",
       "    <tr>\n",
       "      <th>0</th>\n",
       "      <td>489434</td>\n",
       "      <td>85048</td>\n",
       "      <td>15CM CHRISTMAS GLASS BALL 20 LIGHTS</td>\n",
       "      <td>12</td>\n",
       "      <td>2009-12-01 07:45:00</td>\n",
       "      <td>6.95</td>\n",
       "      <td>13085.0</td>\n",
       "      <td>United Kingdom</td>\n",
       "    </tr>\n",
       "    <tr>\n",
       "      <th>1</th>\n",
       "      <td>489434</td>\n",
       "      <td>79323P</td>\n",
       "      <td>PINK CHERRY LIGHTS</td>\n",
       "      <td>12</td>\n",
       "      <td>2009-12-01 07:45:00</td>\n",
       "      <td>6.75</td>\n",
       "      <td>13085.0</td>\n",
       "      <td>United Kingdom</td>\n",
       "    </tr>\n",
       "    <tr>\n",
       "      <th>2</th>\n",
       "      <td>489434</td>\n",
       "      <td>79323W</td>\n",
       "      <td>WHITE CHERRY LIGHTS</td>\n",
       "      <td>12</td>\n",
       "      <td>2009-12-01 07:45:00</td>\n",
       "      <td>6.75</td>\n",
       "      <td>13085.0</td>\n",
       "      <td>United Kingdom</td>\n",
       "    </tr>\n",
       "    <tr>\n",
       "      <th>3</th>\n",
       "      <td>489434</td>\n",
       "      <td>22041</td>\n",
       "      <td>RECORD FRAME 7\" SINGLE SIZE</td>\n",
       "      <td>48</td>\n",
       "      <td>2009-12-01 07:45:00</td>\n",
       "      <td>2.10</td>\n",
       "      <td>13085.0</td>\n",
       "      <td>United Kingdom</td>\n",
       "    </tr>\n",
       "    <tr>\n",
       "      <th>4</th>\n",
       "      <td>489434</td>\n",
       "      <td>21232</td>\n",
       "      <td>STRAWBERRY CERAMIC TRINKET BOX</td>\n",
       "      <td>24</td>\n",
       "      <td>2009-12-01 07:45:00</td>\n",
       "      <td>1.25</td>\n",
       "      <td>13085.0</td>\n",
       "      <td>United Kingdom</td>\n",
       "    </tr>\n",
       "  </tbody>\n",
       "</table>\n",
       "</div>"
      ],
      "text/plain": [
       "  Invoice StockCode                          Description  Quantity  \\\n",
       "0  489434     85048  15CM CHRISTMAS GLASS BALL 20 LIGHTS        12   \n",
       "1  489434    79323P                   PINK CHERRY LIGHTS        12   \n",
       "2  489434    79323W                  WHITE CHERRY LIGHTS        12   \n",
       "3  489434     22041         RECORD FRAME 7\" SINGLE SIZE         48   \n",
       "4  489434     21232       STRAWBERRY CERAMIC TRINKET BOX        24   \n",
       "\n",
       "          InvoiceDate  Price  Customer ID         Country  \n",
       "0 2009-12-01 07:45:00   6.95      13085.0  United Kingdom  \n",
       "1 2009-12-01 07:45:00   6.75      13085.0  United Kingdom  \n",
       "2 2009-12-01 07:45:00   6.75      13085.0  United Kingdom  \n",
       "3 2009-12-01 07:45:00   2.10      13085.0  United Kingdom  \n",
       "4 2009-12-01 07:45:00   1.25      13085.0  United Kingdom  "
      ]
     },
     "execution_count": 228,
     "metadata": {},
     "output_type": "execute_result"
    }
   ],
   "source": [
    "df.head()"
   ]
  },
  {
   "cell_type": "code",
   "execution_count": 229,
   "id": "cbbf6336",
   "metadata": {},
   "outputs": [
    {
     "data": {
      "text/plain": [
       "(4384,)"
      ]
     },
     "execution_count": 229,
     "metadata": {},
     "output_type": "execute_result"
    }
   ],
   "source": [
    "df['Customer ID'].unique().shape #so there are only 4383 k customers of this organization \n"
   ]
  },
  {
   "cell_type": "code",
   "execution_count": 230,
   "id": "0d70e774",
   "metadata": {},
   "outputs": [],
   "source": [
    "#the invoice id starting with C means Cancelled order \n",
    "#lets check them \n",
    "df[df['Invoice'].astype(str).str.startswith('C')]\n",
    "#we have to remove all the cancelled order from this list \n",
    "df=df[~df['Invoice'].astype(str).str.startswith('C')] #here we remove all the cancelled orders \n"
   ]
  },
  {
   "cell_type": "code",
   "execution_count": 231,
   "id": "90d84102",
   "metadata": {},
   "outputs": [],
   "source": [
    "df.shape\n",
    "#lets also drop the null customer id \n",
    "\n",
    "df=df[df['Customer ID'].notnull()]\n",
    "# df=df[~df['Customer ID'].isna()] #also can do like this"
   ]
  },
  {
   "cell_type": "code",
   "execution_count": 232,
   "id": "9b7bd17c",
   "metadata": {},
   "outputs": [
    {
     "data": {
      "text/plain": [
       "(407695, 8)"
      ]
     },
     "execution_count": 232,
     "metadata": {},
     "output_type": "execute_result"
    }
   ],
   "source": [
    "df.shape"
   ]
  },
  {
   "cell_type": "code",
   "execution_count": 233,
   "id": "a5298503",
   "metadata": {},
   "outputs": [
    {
     "data": {
      "text/plain": [
       "Invoice        0\n",
       "StockCode      0\n",
       "Description    0\n",
       "Quantity       0\n",
       "InvoiceDate    0\n",
       "Price          0\n",
       "Customer ID    0\n",
       "Country        0\n",
       "dtype: int64"
      ]
     },
     "execution_count": 233,
     "metadata": {},
     "output_type": "execute_result"
    }
   ],
   "source": [
    "#we have successfully remvoeall the null customer id's and also\n",
    "#remvoed all the cancelled order \n",
    "df.isnull().sum() #their is no null values"
   ]
  },
  {
   "cell_type": "code",
   "execution_count": 234,
   "id": "c8f3c96b",
   "metadata": {},
   "outputs": [],
   "source": [
    "#lets check the each column seperately and see its importance to make the prediction\n",
    "#stock code is not helpful lets drop it \n",
    "# df.drop(columns=['StockCode'],inplace=True)\n",
    "#invoice is also not useful \n",
    "# df.drop(columns=['Invoice'],inplace=True)"
   ]
  },
  {
   "cell_type": "code",
   "execution_count": 235,
   "id": "0fa2cf90",
   "metadata": {},
   "outputs": [],
   "source": [
    "#in the quantity column some values are negative lets remove them \n",
    "df=df[df['Quantity']>0]"
   ]
  },
  {
   "cell_type": "code",
   "execution_count": 236,
   "id": "96d71db8",
   "metadata": {},
   "outputs": [
    {
     "name": "stdout",
     "output_type": "stream",
     "text": [
      "<class 'pandas.core.frame.DataFrame'>\n",
      "Index: 407695 entries, 0 to 525460\n",
      "Data columns (total 8 columns):\n",
      " #   Column       Non-Null Count   Dtype         \n",
      "---  ------       --------------   -----         \n",
      " 0   Invoice      407695 non-null  object        \n",
      " 1   StockCode    407695 non-null  object        \n",
      " 2   Description  407695 non-null  object        \n",
      " 3   Quantity     407695 non-null  int64         \n",
      " 4   InvoiceDate  407695 non-null  datetime64[ns]\n",
      " 5   Price        407695 non-null  float64       \n",
      " 6   Customer ID  407695 non-null  int64         \n",
      " 7   Country      407695 non-null  object        \n",
      "dtypes: datetime64[ns](1), float64(1), int64(2), object(4)\n",
      "memory usage: 28.0+ MB\n"
     ]
    }
   ],
   "source": [
    "#lets check the data type of all the columns\n",
    "# df.info()\n",
    "df['Customer ID']=df['Customer ID'].astype('int')\n",
    "df.info()\n"
   ]
  },
  {
   "cell_type": "code",
   "execution_count": 237,
   "id": "beb06a1d",
   "metadata": {},
   "outputs": [],
   "source": [
    "df['total_amount']=df['Quantity']*df['Price']"
   ]
  },
  {
   "cell_type": "code",
   "execution_count": 238,
   "id": "1588b095",
   "metadata": {},
   "outputs": [],
   "source": [
    "#lets remove the stock code \n",
    "df.drop(columns=['StockCode'],inplace=True)"
   ]
  },
  {
   "cell_type": "code",
   "execution_count": 239,
   "id": "c489b4d5",
   "metadata": {},
   "outputs": [
    {
     "data": {
      "text/html": [
       "<div>\n",
       "<style scoped>\n",
       "    .dataframe tbody tr th:only-of-type {\n",
       "        vertical-align: middle;\n",
       "    }\n",
       "\n",
       "    .dataframe tbody tr th {\n",
       "        vertical-align: top;\n",
       "    }\n",
       "\n",
       "    .dataframe thead th {\n",
       "        text-align: right;\n",
       "    }\n",
       "</style>\n",
       "<table border=\"1\" class=\"dataframe\">\n",
       "  <thead>\n",
       "    <tr style=\"text-align: right;\">\n",
       "      <th></th>\n",
       "      <th>Invoice_no</th>\n",
       "      <th>Description</th>\n",
       "      <th>Quantity</th>\n",
       "      <th>InvoiceDate</th>\n",
       "      <th>Price</th>\n",
       "      <th>Customer_id</th>\n",
       "      <th>Country</th>\n",
       "      <th>total_amount</th>\n",
       "    </tr>\n",
       "  </thead>\n",
       "  <tbody>\n",
       "    <tr>\n",
       "      <th>0</th>\n",
       "      <td>489434</td>\n",
       "      <td>15CM CHRISTMAS GLASS BALL 20 LIGHTS</td>\n",
       "      <td>12</td>\n",
       "      <td>2009-12-01 07:45:00</td>\n",
       "      <td>6.95</td>\n",
       "      <td>13085</td>\n",
       "      <td>United Kingdom</td>\n",
       "      <td>83.4</td>\n",
       "    </tr>\n",
       "    <tr>\n",
       "      <th>1</th>\n",
       "      <td>489434</td>\n",
       "      <td>PINK CHERRY LIGHTS</td>\n",
       "      <td>12</td>\n",
       "      <td>2009-12-01 07:45:00</td>\n",
       "      <td>6.75</td>\n",
       "      <td>13085</td>\n",
       "      <td>United Kingdom</td>\n",
       "      <td>81.0</td>\n",
       "    </tr>\n",
       "    <tr>\n",
       "      <th>2</th>\n",
       "      <td>489434</td>\n",
       "      <td>WHITE CHERRY LIGHTS</td>\n",
       "      <td>12</td>\n",
       "      <td>2009-12-01 07:45:00</td>\n",
       "      <td>6.75</td>\n",
       "      <td>13085</td>\n",
       "      <td>United Kingdom</td>\n",
       "      <td>81.0</td>\n",
       "    </tr>\n",
       "    <tr>\n",
       "      <th>3</th>\n",
       "      <td>489434</td>\n",
       "      <td>RECORD FRAME 7\" SINGLE SIZE</td>\n",
       "      <td>48</td>\n",
       "      <td>2009-12-01 07:45:00</td>\n",
       "      <td>2.10</td>\n",
       "      <td>13085</td>\n",
       "      <td>United Kingdom</td>\n",
       "      <td>100.8</td>\n",
       "    </tr>\n",
       "    <tr>\n",
       "      <th>4</th>\n",
       "      <td>489434</td>\n",
       "      <td>STRAWBERRY CERAMIC TRINKET BOX</td>\n",
       "      <td>24</td>\n",
       "      <td>2009-12-01 07:45:00</td>\n",
       "      <td>1.25</td>\n",
       "      <td>13085</td>\n",
       "      <td>United Kingdom</td>\n",
       "      <td>30.0</td>\n",
       "    </tr>\n",
       "  </tbody>\n",
       "</table>\n",
       "</div>"
      ],
      "text/plain": [
       "  Invoice_no                          Description  Quantity  \\\n",
       "0     489434  15CM CHRISTMAS GLASS BALL 20 LIGHTS        12   \n",
       "1     489434                   PINK CHERRY LIGHTS        12   \n",
       "2     489434                  WHITE CHERRY LIGHTS        12   \n",
       "3     489434         RECORD FRAME 7\" SINGLE SIZE         48   \n",
       "4     489434       STRAWBERRY CERAMIC TRINKET BOX        24   \n",
       "\n",
       "          InvoiceDate  Price  Customer_id         Country  total_amount  \n",
       "0 2009-12-01 07:45:00   6.95        13085  United Kingdom          83.4  \n",
       "1 2009-12-01 07:45:00   6.75        13085  United Kingdom          81.0  \n",
       "2 2009-12-01 07:45:00   6.75        13085  United Kingdom          81.0  \n",
       "3 2009-12-01 07:45:00   2.10        13085  United Kingdom         100.8  \n",
       "4 2009-12-01 07:45:00   1.25        13085  United Kingdom          30.0  "
      ]
     },
     "execution_count": 239,
     "metadata": {},
     "output_type": "execute_result"
    }
   ],
   "source": [
    "df.head()\n",
    "df=df.rename(columns={'Invoice':'Invoice_no','Customer ID':'Customer_id'}) #wwe have to pass it in columns arguments \n",
    "\n",
    "df.head()"
   ]
  },
  {
   "cell_type": "code",
   "execution_count": 240,
   "id": "4af77f76",
   "metadata": {},
   "outputs": [],
   "source": [
    "# Set reference date (last invoice date + 1 day)\n",
    "reference_date = df['InvoiceDate'].max() + pd.Timedelta(days=1)\n",
    "\n",
    "# Compute RFM metrics\n",
    "rfm = df.groupby('Customer_id').agg({\n",
    "    'InvoiceDate': lambda x: (reference_date - x.max()).days,  # Recency\n",
    "    'Invoice_no': 'nunique',  # Frequency (unique invoices)\n",
    "    'total_amount': 'sum'     # Monetary (total revenue)\n",
    "}).rename(columns={\n",
    "    'InvoiceDate': 'Recency',\n",
    "    'Invoice_no': 'Frequency',\n",
    "    'total_amount': 'Monetary'\n",
    "})\n",
    "\n",
    "# Calculate Average Order Value (AOV)\n",
    "rfm['AOV'] = rfm['Monetary'] / rfm['Frequency']\n",
    "\n",
    "# Define LTV (for simplicity, we'll assume Monetary = LTV)\n",
    "rfm['LTV'] = rfm['Monetary']"
   ]
  },
  {
   "cell_type": "code",
   "execution_count": 241,
   "id": "e6467c9d",
   "metadata": {},
   "outputs": [
    {
     "data": {
      "image/png": "[encoded data removed]",
      "text/plain": [
       "<Figure size 1000x600 with 1 Axes>"
      ]
     },
     "metadata": {},
     "output_type": "display_data"
    },
    {
     "data": {
      "image/png": "[encoded data removed]",
      "text/plain": [
       "<Figure size 800x600 with 2 Axes>"
      ]
     },
     "metadata": {},
     "output_type": "display_data"
    }
   ],
   "source": [
    "import matplotlib.pyplot as plt\n",
    "import seaborn as sns\n",
    "\n",
    "\n",
    "# Distribution of LTV\n",
    "plt.figure(figsize=(10, 6))\n",
    "sns.histplot(rfm['LTV'], bins=50, kde=True)\n",
    "plt.title('Distribution of Customer LTV')\n",
    "plt.show()\n",
    "\n",
    "# Correlation heatmap\n",
    "plt.figure(figsize=(8, 6))\n",
    "sns.heatmap(rfm.corr(), annot=True, cmap='coolwarm')\n",
    "plt.title('RFM Correlation Matrix')\n",
    "plt.show()"
   ]
  },
  {
   "cell_type": "code",
   "execution_count": 242,
   "id": "21bcae6a",
   "metadata": {},
   "outputs": [
    {
     "data": {
      "text/html": [
       "<div>\n",
       "<style scoped>\n",
       "    .dataframe tbody tr th:only-of-type {\n",
       "        vertical-align: middle;\n",
       "    }\n",
       "\n",
       "    .dataframe tbody tr th {\n",
       "        vertical-align: top;\n",
       "    }\n",
       "\n",
       "    .dataframe thead th {\n",
       "        text-align: right;\n",
       "    }\n",
       "</style>\n",
       "<table border=\"1\" class=\"dataframe\">\n",
       "  <thead>\n",
       "    <tr style=\"text-align: right;\">\n",
       "      <th></th>\n",
       "      <th>Recency</th>\n",
       "      <th>Frequency</th>\n",
       "      <th>Monetary</th>\n",
       "      <th>AOV</th>\n",
       "      <th>LTV</th>\n",
       "    </tr>\n",
       "    <tr>\n",
       "      <th>Customer_id</th>\n",
       "      <th></th>\n",
       "      <th></th>\n",
       "      <th></th>\n",
       "      <th></th>\n",
       "      <th></th>\n",
       "    </tr>\n",
       "  </thead>\n",
       "  <tbody>\n",
       "    <tr>\n",
       "      <th>12346</th>\n",
       "      <td>165</td>\n",
       "      <td>11</td>\n",
       "      <td>372.86</td>\n",
       "      <td>33.896364</td>\n",
       "      <td>372.86</td>\n",
       "    </tr>\n",
       "    <tr>\n",
       "      <th>12347</th>\n",
       "      <td>3</td>\n",
       "      <td>2</td>\n",
       "      <td>1323.32</td>\n",
       "      <td>661.660000</td>\n",
       "      <td>1323.32</td>\n",
       "    </tr>\n",
       "    <tr>\n",
       "      <th>12348</th>\n",
       "      <td>74</td>\n",
       "      <td>1</td>\n",
       "      <td>222.16</td>\n",
       "      <td>222.160000</td>\n",
       "      <td>222.16</td>\n",
       "    </tr>\n",
       "    <tr>\n",
       "      <th>12349</th>\n",
       "      <td>43</td>\n",
       "      <td>3</td>\n",
       "      <td>2671.14</td>\n",
       "      <td>890.380000</td>\n",
       "      <td>2671.14</td>\n",
       "    </tr>\n",
       "    <tr>\n",
       "      <th>12351</th>\n",
       "      <td>11</td>\n",
       "      <td>1</td>\n",
       "      <td>300.93</td>\n",
       "      <td>300.930000</td>\n",
       "      <td>300.93</td>\n",
       "    </tr>\n",
       "  </tbody>\n",
       "</table>\n",
       "</div>"
      ],
      "text/plain": [
       "             Recency  Frequency  Monetary         AOV      LTV\n",
       "Customer_id                                                   \n",
       "12346            165         11    372.86   33.896364   372.86\n",
       "12347              3          2   1323.32  661.660000  1323.32\n",
       "12348             74          1    222.16  222.160000   222.16\n",
       "12349             43          3   2671.14  890.380000  2671.14\n",
       "12351             11          1    300.93  300.930000   300.93"
      ]
     },
     "execution_count": 242,
     "metadata": {},
     "output_type": "execute_result"
    }
   ],
   "source": [
    "rfm.head()\n",
    "#here we have made the input columns and the target column \n",
    "#lets train the model on it\n"
   ]
  },
  {
   "cell_type": "code",
   "execution_count": 243,
   "id": "b13572ba",
   "metadata": {},
   "outputs": [
    {
     "name": "stdout",
     "output_type": "stream",
     "text": [
      "MAE: 673.5060126492311\n",
      "RMSE: 6848.2082570841285\n"
     ]
    }
   ],
   "source": [
    "from sklearn.model_selection import train_test_split\n",
    "from sklearn.ensemble import RandomForestRegressor\n",
    "from xgboost import XGBRegressor\n",
    "from sklearn.metrics import mean_absolute_error, mean_squared_error\n",
    "\n",
    "# Features & Target\n",
    "X = rfm[['Recency', 'Frequency', 'AOV']]\n",
    "y = rfm['LTV']\n",
    "\n",
    "# Train-test split\n",
    "X_train, X_test, y_train, y_test = train_test_split(X, y, test_size=0.2, random_state=42)\n",
    "\n",
    "# Train XGBoost model\n",
    "xgb_model1 = XGBRegressor(objective='reg:squarederror', n_estimators=100)\n",
    "xgb_model1.fit(X_train, y_train)\n",
    "\n",
    "# Evaluate\n",
    "y_pred = xgb_model1.predict(X_test)\n",
    "print(f\"MAE: {mean_absolute_error(y_test, y_pred)}\")\n",
    "print(f\"RMSE: {np.sqrt(mean_squared_error(y_test, y_pred))}\")"
   ]
  },
  {
   "cell_type": "code",
   "execution_count": 244,
   "id": "dbe86caa",
   "metadata": {},
   "outputs": [
    {
     "data": {
      "text/plain": [
       "array([1304.8208], dtype=float32)"
      ]
     },
     "execution_count": 244,
     "metadata": {},
     "output_type": "execute_result"
    }
   ],
   "source": [
    "#lets take a prediction and see how much difference in the value of the ltv of a customers \n",
    "xgb_model1.predict([[165,11,33.89]])\n",
    "xgb_model1.predict([[3,2,661.6]]) #peformance of our model is really bad \n",
    "#lets try to improve the performance of it \n"
   ]
  },
  {
   "cell_type": "code",
   "execution_count": 245,
   "id": "80dbe39a",
   "metadata": {},
   "outputs": [
    {
     "name": "stdout",
     "output_type": "stream",
     "text": [
      "        Predicted_LTV_model1           Recency  Frequency         AOV\n",
      "                        mean count        mean       mean        mean\n",
      "Segment                                                              \n",
      "Low               178.353790  1081  150.844588   1.219241  158.666740\n",
      "Medium            476.427429  1080  106.196296   2.011111  293.092299\n",
      "High             1132.735229  1074   68.205773   3.765363  390.995245\n",
      "VIP              6596.764160  1079   39.598703  10.825765  670.379839\n"
     ]
    },
    {
     "name": "stderr",
     "output_type": "stream",
     "text": [
      "C:\\Users\\aashi\\AppData\\Local\\Temp\\ipykernel_20864\\3771602088.py:8: FutureWarning: The default of observed=False is deprecated and will be changed to True in a future version of pandas. Pass observed=False to retain current behavior or observed=True to adopt the future default and silence this warning.\n",
      "  segment_stats = rfm.groupby('Segment').agg({\n"
     ]
    }
   ],
   "source": [
    "# Predict LTV for all customers\n",
    "rfm['Predicted_LTV_model1'] = xgb_model1.predict(X)\n",
    "\n",
    "# Create segments (quartiles)\n",
    "rfm['Segment'] = pd.qcut(rfm['Predicted_LTV_model1'], q=4, labels=['Low', 'Medium', 'High', 'VIP'])\n",
    "\n",
    "# Analyze segments\n",
    "segment_stats = rfm.groupby('Segment').agg({\n",
    "    'Predicted_LTV_model1': ['mean', 'count'],\n",
    "    'Recency': 'mean',\n",
    "    'Frequency': 'mean',\n",
    "    'AOV': 'mean'\n",
    "})\n",
    "print(segment_stats)"
   ]
  },
  {
   "cell_type": "code",
   "execution_count": 246,
   "id": "88a449c4",
   "metadata": {},
   "outputs": [
    {
     "name": "stdout",
     "output_type": "stream",
     "text": [
      "MAE: 382.29470626038494\n",
      "RMSE: 4113.670421001417\n"
     ]
    }
   ],
   "source": [
    "\n",
    "# Apply log transformation to LTV\n",
    "y_train_log = np.log1p(y_train)\n",
    "y_test_log = np.log1p(y_test)\n",
    "\n",
    "# Train model on log-transformed target\n",
    "# \n",
    "xgb_model = XGBRegressor(objective='reg:squarederror', n_estimators=100)\n",
    "xgb_model.fit(X_train, y_train_log)\n",
    "\n",
    "# Predict and reverse transform\n",
    "y_pred_log = xgb_model.predict(X_test)\n",
    "y_pred = np.expm1(y_pred_log) #getting the actual  value after from log output \n",
    "rfm['Predicted_LTV_model2']=np.expm1(xgb_model.predict(X))\n",
    "# Recalculate metrics\n",
    "print(f\"MAE: {mean_absolute_error(y_test, y_pred)}\")\n",
    "print(f\"RMSE: {np.sqrt(mean_squared_error(y_test, y_pred))}\")"
   ]
  },
  {
   "cell_type": "code",
   "execution_count": 247,
   "id": "355f54cf",
   "metadata": {},
   "outputs": [],
   "source": [
    "rfm.head()\n",
    "#lets convet the ltv ino he log\n",
    "rfm['log_ltv']=np.log1p(rfm['LTV']) #storing the actual ltv into the logltv after the log transformation \n"
   ]
  },
  {
   "cell_type": "code",
   "execution_count": 265,
   "id": "63998e7d",
   "metadata": {},
   "outputs": [
    {
     "data": {
      "text/html": [
       "<div>\n",
       "<style scoped>\n",
       "    .dataframe tbody tr th:only-of-type {\n",
       "        vertical-align: middle;\n",
       "    }\n",
       "\n",
       "    .dataframe tbody tr th {\n",
       "        vertical-align: top;\n",
       "    }\n",
       "\n",
       "    .dataframe thead th {\n",
       "        text-align: right;\n",
       "    }\n",
       "</style>\n",
       "<table border=\"1\" class=\"dataframe\">\n",
       "  <thead>\n",
       "    <tr style=\"text-align: right;\">\n",
       "      <th></th>\n",
       "      <th>Recency</th>\n",
       "      <th>Frequency</th>\n",
       "      <th>Monetary</th>\n",
       "      <th>AOV</th>\n",
       "      <th>LTV</th>\n",
       "      <th>Predicted_LTV_model1</th>\n",
       "      <th>Segment</th>\n",
       "      <th>Predicted_LTV_model2</th>\n",
       "      <th>log_ltv</th>\n",
       "      <th>Predicted_LTV</th>\n",
       "    </tr>\n",
       "    <tr>\n",
       "      <th>Customer_id</th>\n",
       "      <th></th>\n",
       "      <th></th>\n",
       "      <th></th>\n",
       "      <th></th>\n",
       "      <th></th>\n",
       "      <th></th>\n",
       "      <th></th>\n",
       "      <th></th>\n",
       "      <th></th>\n",
       "      <th></th>\n",
       "    </tr>\n",
       "  </thead>\n",
       "  <tbody>\n",
       "    <tr>\n",
       "      <th>12346</th>\n",
       "      <td>165</td>\n",
       "      <td>11</td>\n",
       "      <td>372.86</td>\n",
       "      <td>33.896364</td>\n",
       "      <td>372.86</td>\n",
       "      <td>408.642059</td>\n",
       "      <td>Medium</td>\n",
       "      <td>373.239075</td>\n",
       "      <td>5.923881</td>\n",
       "      <td>373.239075</td>\n",
       "    </tr>\n",
       "    <tr>\n",
       "      <th>12347</th>\n",
       "      <td>3</td>\n",
       "      <td>2</td>\n",
       "      <td>1323.32</td>\n",
       "      <td>661.660000</td>\n",
       "      <td>1323.32</td>\n",
       "      <td>1304.820801</td>\n",
       "      <td>High</td>\n",
       "      <td>1322.587769</td>\n",
       "      <td>7.188654</td>\n",
       "      <td>1322.587769</td>\n",
       "    </tr>\n",
       "    <tr>\n",
       "      <th>12348</th>\n",
       "      <td>74</td>\n",
       "      <td>1</td>\n",
       "      <td>222.16</td>\n",
       "      <td>222.160000</td>\n",
       "      <td>222.16</td>\n",
       "      <td>223.315887</td>\n",
       "      <td>Low</td>\n",
       "      <td>223.232834</td>\n",
       "      <td>5.407889</td>\n",
       "      <td>223.232834</td>\n",
       "    </tr>\n",
       "    <tr>\n",
       "      <th>12349</th>\n",
       "      <td>43</td>\n",
       "      <td>3</td>\n",
       "      <td>2671.14</td>\n",
       "      <td>890.380000</td>\n",
       "      <td>2671.14</td>\n",
       "      <td>2669.295898</td>\n",
       "      <td>VIP</td>\n",
       "      <td>2702.383301</td>\n",
       "      <td>7.890635</td>\n",
       "      <td>2702.383301</td>\n",
       "    </tr>\n",
       "    <tr>\n",
       "      <th>12351</th>\n",
       "      <td>11</td>\n",
       "      <td>1</td>\n",
       "      <td>300.93</td>\n",
       "      <td>300.930000</td>\n",
       "      <td>300.93</td>\n",
       "      <td>291.776306</td>\n",
       "      <td>Low</td>\n",
       "      <td>298.045258</td>\n",
       "      <td>5.710195</td>\n",
       "      <td>298.045258</td>\n",
       "    </tr>\n",
       "  </tbody>\n",
       "</table>\n",
       "</div>"
      ],
      "text/plain": [
       "             Recency  Frequency  Monetary         AOV      LTV  \\\n",
       "Customer_id                                                      \n",
       "12346            165         11    372.86   33.896364   372.86   \n",
       "12347              3          2   1323.32  661.660000  1323.32   \n",
       "12348             74          1    222.16  222.160000   222.16   \n",
       "12349             43          3   2671.14  890.380000  2671.14   \n",
       "12351             11          1    300.93  300.930000   300.93   \n",
       "\n",
       "             Predicted_LTV_model1 Segment  Predicted_LTV_model2   log_ltv  \\\n",
       "Customer_id                                                                 \n",
       "12346                  408.642059  Medium            373.239075  5.923881   \n",
       "12347                 1304.820801    High           1322.587769  7.188654   \n",
       "12348                  223.315887     Low            223.232834  5.407889   \n",
       "12349                 2669.295898     VIP           2702.383301  7.890635   \n",
       "12351                  291.776306     Low            298.045258  5.710195   \n",
       "\n",
       "             Predicted_LTV  \n",
       "Customer_id                 \n",
       "12346           373.239075  \n",
       "12347          1322.587769  \n",
       "12348           223.232834  \n",
       "12349          2702.383301  \n",
       "12351           298.045258  "
      ]
     },
     "execution_count": 265,
     "metadata": {},
     "output_type": "execute_result"
    }
   ],
   "source": [
    "rfm.head()"
   ]
  },
  {
   "cell_type": "code",
   "execution_count": 262,
   "id": "39526efa",
   "metadata": {},
   "outputs": [
    {
     "name": "stdout",
     "output_type": "stream",
     "text": [
      "MAE: 377.78784343939174\n",
      "RMSE: 4112.666823788793\n"
     ]
    }
   ],
   "source": [
    "#here in the above dataframe we can see the accuracy of our model increases \n",
    "#lets increases the number of estimater and see what happens\n",
    "\n",
    "# Apply log transformation to LTV\n",
    "y_train_log = np.log1p(y_train)\n",
    "y_test_log = np.log1p(y_test) \n",
    "\n",
    "# Train model on log-transformed target\n",
    "# \n",
    "xgb_model3 = XGBRegressor(objective='reg:squarederror', n_estimators=350)\n",
    "xgb_model3.fit(X_train, y_train_log)\n",
    "\n",
    "# Predict and reverse transform\n",
    "y_pred_log = xgb_model3.predict(X_test)\n",
    "y_pred = np.expm1(y_pred_log) #getting the actual  value after from log output \n",
    "rfm['Predicted_LTV']=np.expm1(xgb_model.predict(X))\n",
    "# Recalculate metrics\n",
    "print(f\"MAE: {mean_absolute_error(y_test, y_pred)}\")\n",
    "print(f\"RMSE: {np.sqrt(mean_squared_error(y_test, y_pred))}\")\n",
    "#here we can see the accuracy is increased but very small \n",
    "#after the n_estimators=300 the accuracy is not increasing \n",
    "#so lets store this value as the prdicted vlaues\n",
    "#and this is our main model for the prediction of the ltv \n"
   ]
  },
  {
   "cell_type": "code",
   "execution_count": 284,
   "id": "993742cd",
   "metadata": {},
   "outputs": [
    {
     "name": "stdout",
     "output_type": "stream",
     "text": [
      "MSE is  475.36577698725387\n",
      "RMSE is  5005.240287205208\n"
     ]
    }
   ],
   "source": [
    "\n",
    "#LETS TRY RANDOM FOREST ALGORITHM AND CHECK THE PERFORMACNE OF THE DATASET \n",
    "from sklearn.ensemble import RandomForestRegressor\n",
    "rf=RandomForestRegressor(n_estimators=100,max_depth=None)\n",
    "rf.fit(X_train,y_train)\n",
    "\n",
    "rf_pred=rf.predict(X_test)\n",
    "print('MSE is ',mean_absolute_error(y_test,rf_pred))\n",
    "print('RMSE is ',np.sqrt(mean_squared_error(y_test,rf_pred)))\n",
    "#here we can see the random forest model is not working well \n",
    "#so here we only use our xgboost model with 300 estimators "
   ]
  },
  {
   "cell_type": "code",
   "execution_count": null,
   "id": "19c4a4c4",
   "metadata": {},
   "outputs": [
    {
     "name": "stdout",
     "output_type": "stream",
     "text": [
      "MSE is  486.1508272421784\n",
      "RMSE is  5141.129724538158\n"
     ]
    }
   ],
   "source": []
  },
  {
   "cell_type": "code",
   "execution_count": 250,
   "id": "2172e070",
   "metadata": {},
   "outputs": [
    {
     "data": {
      "text/plain": [
       "(4314, 9)"
      ]
     },
     "execution_count": 250,
     "metadata": {},
     "output_type": "execute_result"
    }
   ],
   "source": [
    "rfm.shape"
   ]
  },
  {
   "cell_type": "code",
   "execution_count": 251,
   "id": "96ced823",
   "metadata": {},
   "outputs": [],
   "source": [
    "# # 1. Time since first purchase (customer tenure)\n",
    "# first_purchase = df.groupby('Customer_id')['InvoiceDate'].min()\n",
    "# rfm['Tenure'] = (reference_date - first_purchase).dt.days\n",
    "\n",
    "# # 2. Purchase frequency (purchases per month)\n",
    "# rfm['Purchase_Freq'] = rfm['Frequency'] / (rfm['Tenure']/30)  # per month\n",
    "\n",
    "# # 3. Add country as a feature (if available)\n",
    "# # df['Country'] = ... # from original data\n",
    "# # rfm = rfm.join(df.drop_duplicates('CustomerID').set_index('CustomerID')['Country'])\n",
    "# # Then one-hot encode if using\n",
    "\n",
    "# # Update features\n",
    "# X = rfm[['Recency', 'Frequency', 'AOV', 'Tenure', 'Purchase_Freq']]"
   ]
  },
  {
   "cell_type": "code",
   "execution_count": null,
   "id": "3acf90be",
   "metadata": {},
   "outputs": [],
   "source": []
  },
  {
   "cell_type": "code",
   "execution_count": 263,
   "id": "0c3aa4fc",
   "metadata": {},
   "outputs": [
    {
     "data": {
      "text/plain": [
       "['ltv_xgboost_model.pkl']"
      ]
     },
     "execution_count": 263,
     "metadata": {},
     "output_type": "execute_result"
    }
   ],
   "source": [
    "import joblib\n",
    "joblib.dump(xgb_model3, 'ltv_xgboost_model.pkl')"
   ]
  },
  {
   "cell_type": "code",
   "execution_count": 264,
   "id": "200076dd",
   "metadata": {},
   "outputs": [],
   "source": [
    "rfm[['Predicted_LTV', 'Segment']].to_csv('customer_ltv_predictions.csv')"
   ]
  }
 ],
 "metadata": {
  "kernelspec": {
   "display_name": "Python 3",
   "language": "python",
   "name": "python3"
  },
  "language_info": {
   "codemirror_mode": {
    "name": "ipython",
    "version": 3
   },
   "file_extension": ".py",
   "mimetype": "text/x-python",
   "name": "python",
   "nbconvert_exporter": "python",
   "pygments_lexer": "ipython3",
   "version": "3.12.1"
  }
 },
 "nbformat": 4,
 "nbformat_minor": 5
}
